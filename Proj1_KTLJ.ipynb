{
  "nbformat": 4,
  "nbformat_minor": 0,
  "metadata": {
    "colab": {
      "provenance": []
    },
    "kernelspec": {
      "name": "python3",
      "display_name": "Python 3"
    },
    "language_info": {
      "name": "python"
    }
  },
  "cells": [
    {
      "cell_type": "code",
      "execution_count": null,
      "metadata": {
        "id": "H-FYMVgDuFZ4"
      },
      "outputs": [],
      "source": [
        "!pip install xgboost"
      ]
    },
    {
      "cell_type": "code",
      "source": [
        "!pip install tsfresh"
      ],
      "metadata": {
        "id": "zyKIW_sRqayj"
      },
      "execution_count": null,
      "outputs": []
    },
    {
      "cell_type": "code",
      "source": [
        "import os\n",
        "import os.path as op\n",
        "from pathlib   import Path\n",
        "from glob      import glob\n",
        "from tqdm      import tqdm\n",
        "from datetime  import datetime\n",
        "\n",
        "import csv\n",
        "import json\n",
        "import numpy as np\n",
        "import matplotlib.pyplot as plt\n",
        "import pandas as pd\n",
        "import seaborn as sns\n",
        "from sklearn.linear_model import LinearRegression\n",
        "from sklearn import tree\n",
        "from sklearn.ensemble import RandomForestClassifier\n",
        "from sklearn import metrics\n",
        "from sklearn.model_selection import train_test_split\n",
        "from sklearn.model_selection import cross_validate\n",
        "from scipy.stats import skew\n",
        "from scipy.stats import kurtosis\n",
        "import statsmodels.api as sm\n",
        "from statsmodels.tsa.stattools import adfuller\n",
        "from xgboost import XGBClassifier\n",
        "from tsfresh.feature_extraction import feature_calculators"
      ],
      "metadata": {
        "id": "DSiYrvqQqqQl"
      },
      "execution_count": null,
      "outputs": []
    },
    {
      "cell_type": "markdown",
      "source": [
        "Please upload train.json"
      ],
      "metadata": {
        "id": "Hgqc28Ht9_5N"
      }
    },
    {
      "cell_type": "code",
      "source": [
        "from google.colab import files\n",
        "uploaded = files.upload()"
      ],
      "metadata": {
        "colab": {
          "base_uri": "https://localhost:8080/",
          "height": 109
        },
        "id": "dUyBEF9taQ0w",
        "outputId": "60559559-2b7b-4f95-f0d9-0db135ae5414"
      },
      "execution_count": null,
      "outputs": [
        {
          "output_type": "display_data",
          "data": {
            "text/plain": [
              "<IPython.core.display.HTML object>"
            ],
            "text/html": [
              "\n",
              "     <input type=\"file\" id=\"files-31b3be59-7da1-469f-960a-d6012a81ecaa\" name=\"files[]\" multiple disabled\n",
              "        style=\"border:none\" />\n",
              "     <output id=\"result-31b3be59-7da1-469f-960a-d6012a81ecaa\">\n",
              "      Upload widget is only available when the cell has been executed in the\n",
              "      current browser session. Please rerun this cell to enable.\n",
              "      </output>\n",
              "      <script>// Copyright 2017 Google LLC\n",
              "//\n",
              "// Licensed under the Apache License, Version 2.0 (the \"License\");\n",
              "// you may not use this file except in compliance with the License.\n",
              "// You may obtain a copy of the License at\n",
              "//\n",
              "//      http://www.apache.org/licenses/LICENSE-2.0\n",
              "//\n",
              "// Unless required by applicable law or agreed to in writing, software\n",
              "// distributed under the License is distributed on an \"AS IS\" BASIS,\n",
              "// WITHOUT WARRANTIES OR CONDITIONS OF ANY KIND, either express or implied.\n",
              "// See the License for the specific language governing permissions and\n",
              "// limitations under the License.\n",
              "\n",
              "/**\n",
              " * @fileoverview Helpers for google.colab Python module.\n",
              " */\n",
              "(function(scope) {\n",
              "function span(text, styleAttributes = {}) {\n",
              "  const element = document.createElement('span');\n",
              "  element.textContent = text;\n",
              "  for (const key of Object.keys(styleAttributes)) {\n",
              "    element.style[key] = styleAttributes[key];\n",
              "  }\n",
              "  return element;\n",
              "}\n",
              "\n",
              "// Max number of bytes which will be uploaded at a time.\n",
              "const MAX_PAYLOAD_SIZE = 100 * 1024;\n",
              "\n",
              "function _uploadFiles(inputId, outputId) {\n",
              "  const steps = uploadFilesStep(inputId, outputId);\n",
              "  const outputElement = document.getElementById(outputId);\n",
              "  // Cache steps on the outputElement to make it available for the next call\n",
              "  // to uploadFilesContinue from Python.\n",
              "  outputElement.steps = steps;\n",
              "\n",
              "  return _uploadFilesContinue(outputId);\n",
              "}\n",
              "\n",
              "// This is roughly an async generator (not supported in the browser yet),\n",
              "// where there are multiple asynchronous steps and the Python side is going\n",
              "// to poll for completion of each step.\n",
              "// This uses a Promise to block the python side on completion of each step,\n",
              "// then passes the result of the previous step as the input to the next step.\n",
              "function _uploadFilesContinue(outputId) {\n",
              "  const outputElement = document.getElementById(outputId);\n",
              "  const steps = outputElement.steps;\n",
              "\n",
              "  const next = steps.next(outputElement.lastPromiseValue);\n",
              "  return Promise.resolve(next.value.promise).then((value) => {\n",
              "    // Cache the last promise value to make it available to the next\n",
              "    // step of the generator.\n",
              "    outputElement.lastPromiseValue = value;\n",
              "    return next.value.response;\n",
              "  });\n",
              "}\n",
              "\n",
              "/**\n",
              " * Generator function which is called between each async step of the upload\n",
              " * process.\n",
              " * @param {string} inputId Element ID of the input file picker element.\n",
              " * @param {string} outputId Element ID of the output display.\n",
              " * @return {!Iterable<!Object>} Iterable of next steps.\n",
              " */\n",
              "function* uploadFilesStep(inputId, outputId) {\n",
              "  const inputElement = document.getElementById(inputId);\n",
              "  inputElement.disabled = false;\n",
              "\n",
              "  const outputElement = document.getElementById(outputId);\n",
              "  outputElement.innerHTML = '';\n",
              "\n",
              "  const pickedPromise = new Promise((resolve) => {\n",
              "    inputElement.addEventListener('change', (e) => {\n",
              "      resolve(e.target.files);\n",
              "    });\n",
              "  });\n",
              "\n",
              "  const cancel = document.createElement('button');\n",
              "  inputElement.parentElement.appendChild(cancel);\n",
              "  cancel.textContent = 'Cancel upload';\n",
              "  const cancelPromise = new Promise((resolve) => {\n",
              "    cancel.onclick = () => {\n",
              "      resolve(null);\n",
              "    };\n",
              "  });\n",
              "\n",
              "  // Wait for the user to pick the files.\n",
              "  const files = yield {\n",
              "    promise: Promise.race([pickedPromise, cancelPromise]),\n",
              "    response: {\n",
              "      action: 'starting',\n",
              "    }\n",
              "  };\n",
              "\n",
              "  cancel.remove();\n",
              "\n",
              "  // Disable the input element since further picks are not allowed.\n",
              "  inputElement.disabled = true;\n",
              "\n",
              "  if (!files) {\n",
              "    return {\n",
              "      response: {\n",
              "        action: 'complete',\n",
              "      }\n",
              "    };\n",
              "  }\n",
              "\n",
              "  for (const file of files) {\n",
              "    const li = document.createElement('li');\n",
              "    li.append(span(file.name, {fontWeight: 'bold'}));\n",
              "    li.append(span(\n",
              "        `(${file.type || 'n/a'}) - ${file.size} bytes, ` +\n",
              "        `last modified: ${\n",
              "            file.lastModifiedDate ? file.lastModifiedDate.toLocaleDateString() :\n",
              "                                    'n/a'} - `));\n",
              "    const percent = span('0% done');\n",
              "    li.appendChild(percent);\n",
              "\n",
              "    outputElement.appendChild(li);\n",
              "\n",
              "    const fileDataPromise = new Promise((resolve) => {\n",
              "      const reader = new FileReader();\n",
              "      reader.onload = (e) => {\n",
              "        resolve(e.target.result);\n",
              "      };\n",
              "      reader.readAsArrayBuffer(file);\n",
              "    });\n",
              "    // Wait for the data to be ready.\n",
              "    let fileData = yield {\n",
              "      promise: fileDataPromise,\n",
              "      response: {\n",
              "        action: 'continue',\n",
              "      }\n",
              "    };\n",
              "\n",
              "    // Use a chunked sending to avoid message size limits. See b/62115660.\n",
              "    let position = 0;\n",
              "    do {\n",
              "      const length = Math.min(fileData.byteLength - position, MAX_PAYLOAD_SIZE);\n",
              "      const chunk = new Uint8Array(fileData, position, length);\n",
              "      position += length;\n",
              "\n",
              "      const base64 = btoa(String.fromCharCode.apply(null, chunk));\n",
              "      yield {\n",
              "        response: {\n",
              "          action: 'append',\n",
              "          file: file.name,\n",
              "          data: base64,\n",
              "        },\n",
              "      };\n",
              "\n",
              "      let percentDone = fileData.byteLength === 0 ?\n",
              "          100 :\n",
              "          Math.round((position / fileData.byteLength) * 100);\n",
              "      percent.textContent = `${percentDone}% done`;\n",
              "\n",
              "    } while (position < fileData.byteLength);\n",
              "  }\n",
              "\n",
              "  // All done.\n",
              "  yield {\n",
              "    response: {\n",
              "      action: 'complete',\n",
              "    }\n",
              "  };\n",
              "}\n",
              "\n",
              "scope.google = scope.google || {};\n",
              "scope.google.colab = scope.google.colab || {};\n",
              "scope.google.colab._files = {\n",
              "  _uploadFiles,\n",
              "  _uploadFilesContinue,\n",
              "};\n",
              "})(self);\n",
              "</script> "
            ]
          },
          "metadata": {}
        },
        {
          "output_type": "stream",
          "name": "stdout",
          "text": [
            "Saving test.json to test.json\n",
            "Saving train.json to train.json\n"
          ]
        }
      ]
    },
    {
      "cell_type": "code",
      "source": [
        "with open('train.json', 'r') as f:\n",
        "    track_data = json.load(f)\n",
        "# How many tracks are there?\n",
        "print(f\"n_tracks = {len(track_data.keys())}\")\n",
        "\n",
        "# What do the track Unique IDs (UIDs) look like?\n",
        "track_uids = list(track_data.keys())\n",
        "print(f\"5 Example Track IDs = {track_uids[:5]}\")\n",
        "\n",
        "# What fields are avaiable for each track?\n",
        "example_uid = track_uids[0]\n",
        "print(f\"Per-track keys = {track_data[example_uid].keys()}\")\n",
        "\n",
        "# What do the (t, x, y) track coordinates look like?\n",
        "example_coords = track_data[track_uids[5]]['txy']\n",
        "example_coords = np.array(example_coords)\n",
        "np.set_printoptions(threshold=10)\n",
        "print(f\"Coordinate array = \\n{example_coords}\")\n",
        "\n",
        "# What does the label look like?\n",
        "example_label = track_data[track_uids[0]]['label']\n",
        "print(f\"Label = {example_label}\")"
      ],
      "metadata": {
        "colab": {
          "base_uri": "https://localhost:8080/"
        },
        "id": "1f_wZQMsx_5u",
        "outputId": "b1bb675f-7b19-47bb-bbde-7ec31bae6ed3"
      },
      "execution_count": null,
      "outputs": [
        {
          "output_type": "stream",
          "name": "stdout",
          "text": [
            "n_tracks = 16080\n",
            "5 Example Track IDs = ['lab_0_0', 'lab_0_1', 'lab_0_2', 'lab_0_3', 'lab_0_4']\n",
            "Per-track keys = dict_keys(['txy', 'label'])\n",
            "Coordinate array = \n",
            "[[ 49.    229.582 332.15 ]\n",
            " [ 50.    228.415 329.317]\n",
            " [ 51.    227.249 326.483]\n",
            " ...\n",
            " [164.    308.458   8.42 ]\n",
            " [165.    310.583   5.545]\n",
            " [166.    312.708   2.67 ]]\n",
            "Label = 0\n"
          ]
        }
      ]
    },
    {
      "cell_type": "markdown",
      "source": [
        "# New Section"
      ],
      "metadata": {
        "id": "45io8QWzYpnO"
      }
    },
    {
      "cell_type": "code",
      "source": [
        "def mean_step_speed(coords):\n",
        "    \"\"\"Mean step speed of the entire track.\n",
        "\n",
        "    The average per-step speed. Basically the average of distances between points adjacent in time.\n",
        "\n",
        "    Returns\n",
        "    -------\n",
        "    float\n",
        "        The average step speed.\n",
        "    \"\"\"\n",
        "\n",
        "    speeds = []\n",
        "\n",
        "    for i in range(1, coords.shape[0]):\n",
        "        # Previous coordinate location\n",
        "        prev = coords[i-1, 1:]\n",
        "        # Current coordinate location\n",
        "        curr = coords[i, 1:]\n",
        "\n",
        "        # Speed in pixels per frame\n",
        "        curr_speed = np.linalg.norm(curr - prev)\n",
        "\n",
        "        # Accumulate per-step speeds into a list\n",
        "        speeds.append(curr_speed)\n",
        "\n",
        "    # Return the average of the speeds\n",
        "    return np.mean(speeds)\n",
        "\n",
        "\n",
        "def stddev_step_speed(coords):\n",
        "    \"\"\"Standard deviation of the step speed of the entire track.\n",
        "\n",
        "    The standard deviation of the per-step speed.\n",
        "\n",
        "    Returns\n",
        "    -------\n",
        "    float\n",
        "        The stddev of the step speed.\n",
        "    \"\"\"\n",
        "\n",
        "    speeds = []\n",
        "\n",
        "    for i in range(1, coords.shape[0]):\n",
        "        # Previous coordinate location\n",
        "        prev = coords[i-1, 1:]\n",
        "        # Current coordinate location\n",
        "        curr = coords[i, 1:]\n",
        "\n",
        "        # Speed in pixels per frame\n",
        "        curr_speed = np.linalg.norm(curr - prev)\n",
        "\n",
        "        # Accumulate per-step speeds into a list\n",
        "        speeds.append(curr_speed)\n",
        "\n",
        "    # Return the standard deviation of the speeds\n",
        "    return np.std(speeds)\n",
        "\n",
        "\n",
        "def track_length(coords):\n",
        "    \"\"\"Standard deviation of the step speed of the entire track.\n",
        "\n",
        "    The standard deviation of the per-step speed.\n",
        "\n",
        "    Returns\n",
        "    -------\n",
        "    float\n",
        "        The length of the entire track.\n",
        "    \"\"\"\n",
        "\n",
        "    lengths = []\n",
        "\n",
        "    for i in range(1, coords.shape[0]):\n",
        "        # Previous coordinate location\n",
        "        prev = coords[i-1,1:]\n",
        "        # Current coordinate location\n",
        "        curr = coords[i,1:]\n",
        "\n",
        "        # Speed in pixels per frame\n",
        "        step_length = np.linalg.norm(curr - prev)\n",
        "\n",
        "        # Accumulate per-step speeds into a list\n",
        "        lengths.append(step_length)\n",
        "\n",
        "    # Return the sum of the lengths\n",
        "    return np.sum(lengths)\n",
        "\n",
        "\n",
        "def e2e_distance(coords):\n",
        "    \"\"\"End-to-end distance of the track.\n",
        "\n",
        "    The distance from the start and the end of the given track.\n",
        "\n",
        "    Returns\n",
        "    -------\n",
        "    float\n",
        "        The end-to-end distance of the entire track.\n",
        "    \"\"\"\n",
        "\n",
        "    # Start and end of the track\n",
        "    start = coords[0, 1:]\n",
        "    end = coords[-1, 1:]\n",
        "\n",
        "    # Return the distance\n",
        "    return np.linalg.norm(end-start)\n",
        "\n",
        "\n",
        "def duration(coords):\n",
        "    \"\"\"Duration of the track.\n",
        "\n",
        "    The time duration of the track.\n",
        "\n",
        "    Returns\n",
        "    -------\n",
        "    int\n",
        "        The end-to-end duration of the entire track.\n",
        "    \"\"\"\n",
        "\n",
        "    # Start and end times of the track\n",
        "    start_t = coords[0, 0]\n",
        "    end_t = coords[-1, 0]\n",
        "\n",
        "    # Return the difference\n",
        "    return end_t - start_t\n",
        "\n",
        "\n",
        "######################################\n",
        "# Implement your own features below! #\n",
        "######################################\n",
        "\n",
        "def linearity(coords):\n",
        "  \"\"\" Quantifies how linear the track is by regressing y on x, and computing the error.\n",
        "\n",
        "  Returns\n",
        "  -------\n",
        "  float\n",
        "    Error on least squares regression of y on x.\n",
        "  \"\"\"\n",
        "\n",
        "  x = coords[:, 1].reshape(-1, 1)\n",
        "  y = coords[:, 2]\n",
        "  model = LinearRegression().fit(x, y)\n",
        "  r_sq = model.score(x, y)\n",
        "\n",
        "  return r_sq\n",
        "\n",
        "\n",
        "def skew_step_speed(coords):\n",
        "    \"\"\"Skew step speed of the entire track.\n",
        "\n",
        "    \"\"\"\n",
        "\n",
        "    speeds = []\n",
        "\n",
        "    for i in range(1, coords.shape[0]):\n",
        "        # Previous coordinate location\n",
        "        prev = coords[i-1, 1:]\n",
        "        # Current coordinate location\n",
        "        curr = coords[i, 1:]\n",
        "\n",
        "        # Speed in pixels per frame\n",
        "        curr_speed = np.linalg.norm(curr - prev)\n",
        "\n",
        "        # Accumulate per-step speeds into a list\n",
        "        speeds.append(curr_speed)\n",
        "\n",
        "    # Return the average of the speeds\n",
        "    return skew(speeds)\n",
        "\n",
        "\n",
        "def kurt_step_speed(coords):\n",
        "    \"\"\"Kurtosis step speed of the entire track.\n",
        "\n",
        "    \"\"\"\n",
        "\n",
        "    speeds = []\n",
        "\n",
        "    for i in range(1, coords.shape[0]):\n",
        "        # Previous coordinate location\n",
        "        prev = coords[i-1, 1:]\n",
        "        # Current coordinate location\n",
        "        curr = coords[i, 1:]\n",
        "\n",
        "        curr_speed = np.linalg.norm(curr - prev)\n",
        "        speeds.append(curr_speed)\n",
        "\n",
        "    return kurtosis(speeds)\n",
        "\n",
        "def max_speed(coords):\n",
        "\n",
        "  \"\"\"\n",
        "    Max speed\n",
        "\n",
        "  \"\"\"\n",
        "\n",
        "  speeds = []\n",
        "\n",
        "  for i in range(1, coords.shape[0]):\n",
        "      # Previous coordinate location\n",
        "      prev = coords[i-1, 1:]\n",
        "      # Current coordinate location\n",
        "      curr = coords[i, 1:]\n",
        "\n",
        "      curr_speed = np.linalg.norm(curr - prev)\n",
        "\n",
        "      speeds.append(curr_speed)\n",
        "  if len(speeds) < 1:\n",
        "    return 0\n",
        "\n",
        "  return np.max(speeds)\n",
        "\n",
        "def min_speed(coords):\n",
        "\n",
        "  \"\"\"\n",
        "    Min speed\n",
        "\n",
        "  \"\"\"\n",
        "\n",
        "  speeds = []\n",
        "\n",
        "  for i in range(1, coords.shape[0]):\n",
        "      # Previous coordinate location\n",
        "      prev = coords[i-1, 1:]\n",
        "      # Current coordinate location\n",
        "      curr = coords[i, 1:]\n",
        "\n",
        "      curr_speed = np.linalg.norm(curr - prev)\n",
        "\n",
        "      speeds.append(curr_speed)\n",
        "  if len(speeds) < 1:\n",
        "    return 0\n",
        "\n",
        "  return np.min(speeds)\n",
        "\n",
        "\n",
        "def mean_accel(coords):\n",
        "    \"\"\"\n",
        "    Returns\n",
        "    -------\n",
        "    float\n",
        "\n",
        "    \"\"\"\n",
        "\n",
        "    speeds = []\n",
        "    accel = []\n",
        "\n",
        "    for i in range(1, coords.shape[0]):\n",
        "        # Previous coordinate location\n",
        "        prev = coords[i-1, 1:]\n",
        "        # Current coordinate location\n",
        "        curr = coords[i, 1:]\n",
        "\n",
        "        curr_speed = np.linalg.norm(curr - prev)\n",
        "\n",
        "        speeds.append(curr_speed)\n",
        "        if i > 1:\n",
        "          accel.append(speeds[i-1] - speeds [i-2])\n",
        "\n",
        "\n",
        "    return np.mean(accel)\n",
        "\n",
        "\n",
        "\n",
        "def std_dev_accel(coords):\n",
        "    \"\"\"\n",
        "\n",
        "    Returns\n",
        "    -------\n",
        "    float\n",
        "\n",
        "    \"\"\"\n",
        "\n",
        "    speeds = []\n",
        "    accel = []\n",
        "\n",
        "    for i in range(1, coords.shape[0]):\n",
        "        # Previous coordinate location\n",
        "        prev = coords[i-1, 1:]\n",
        "        # Current coordinate location\n",
        "        curr = coords[i, 1:]\n",
        "\n",
        "        curr_speed = np.linalg.norm(curr - prev)\n",
        "\n",
        "        speeds.append(curr_speed)\n",
        "        if i > 1:\n",
        "          accel.append(speeds[i-1] - speeds [i-2])\n",
        "\n",
        "\n",
        "    return np.std(accel)\n",
        "\n",
        "def cmplx_speed(coords):\n",
        "    \"\"\"\n",
        "\n",
        "    Returns\n",
        "    -------\n",
        "    float\n",
        "\n",
        "    \"\"\"\n",
        "\n",
        "    speeds = []\n",
        "    accel = []\n",
        "\n",
        "    for i in range(1, coords.shape[0]):\n",
        "        # Previous coordinate location\n",
        "        prev = coords[i-1, 1:]\n",
        "        # Current coordinate location\n",
        "        curr = coords[i, 1:]\n",
        "\n",
        "        curr_speed = np.linalg.norm(curr - prev)\n",
        "\n",
        "        speeds.append(curr_speed)\n",
        "\n",
        "\n",
        "    return feature_calculators.cid_ce(speeds, True)\n",
        "\n",
        "\n",
        "def cmplx_x(coords):\n",
        "    \"\"\"\n",
        "\n",
        "    Returns\n",
        "    -------\n",
        "    float\n",
        "\n",
        "    \"\"\"\n",
        "\n",
        "    x = coords[:, 1]\n",
        "\n",
        "    return feature_calculators.cid_ce(x, True)\n",
        "\n",
        "def cmplx_y(coords):\n",
        "    \"\"\"\n",
        "\n",
        "    Returns\n",
        "    -------\n",
        "    float\n",
        "\n",
        "    \"\"\"\n",
        "\n",
        "    y = coords[:, 2]\n",
        "\n",
        "\n",
        "    return feature_calculators.cid_ce(y, True)"
      ],
      "metadata": {
        "id": "Ve5PxknBzm60"
      },
      "execution_count": null,
      "outputs": []
    },
    {
      "cell_type": "code",
      "source": [
        "from sklearn.metrics.cluster import entropy\n",
        "\n",
        "\n",
        "FEATURE_LIST = [mean_step_speed, stddev_step_speed, track_length, e2e_distance, duration, linearity, skew_step_speed,\n",
        "                kurt_step_speed, max_speed, min_speed, mean_accel, std_dev_accel, cmplx_speed, cmplx_x, cmplx_y]\n",
        "TYPE = \"train\"\n",
        "TIMESTAMP = datetime.now().strftime(\"%Y%m%d_%H%M%S\")\n",
        "# OUTPUT_FILENAME = f\"{TYPE}_features_{TIMESTAMP}.csv\"\n",
        "OUTPUT_FILENAME = f\"{TYPE}.csv\"\n",
        "\n",
        "# Generate the feature csv\n",
        "header = ['uid', 'label']\n",
        "for featfunc in FEATURE_LIST:\n",
        "    header.append(featfunc.__name__)\n",
        "\n",
        "features = []\n",
        "\n",
        "track_uids = track_data.keys()\n",
        "for uid in track_uids:\n",
        "    curr_row = {\n",
        "        'uid': uid,\n",
        "        'label': track_data[uid]['label']\n",
        "    }\n",
        "\n",
        "    for featfunc in FEATURE_LIST:\n",
        "        curr_row[featfunc.__name__] = featfunc(np.array(track_data[uid]['txy']))\n",
        "\n",
        "    features.append(curr_row)\n",
        "\n",
        "with open(OUTPUT_FILENAME, 'w') as f:\n",
        "    writer = csv.DictWriter(f, fieldnames = header)\n",
        "    writer.writeheader()\n",
        "    for r in features:\n",
        "        writer.writerow(r)\n",
        "\n",
        "print(\"Written to:\", OUTPUT_FILENAME)"
      ],
      "metadata": {
        "id": "CUPlu9I1yZU1"
      },
      "execution_count": null,
      "outputs": []
    },
    {
      "cell_type": "code",
      "source": [
        "df = pd.read_csv('train.csv')\n",
        "df['rsd'] = (df['stddev_step_speed']) / (df['mean_step_speed']+0.001)\n",
        "\n",
        "\n",
        "df_lab = df[df['uid'].str.contains(\"lab\")]\n",
        "df_sim = df[df['uid'].str.contains(\"sim\")]\n"
      ],
      "metadata": {
        "id": "jiLlFZ4c0FAe"
      },
      "execution_count": null,
      "outputs": []
    },
    {
      "cell_type": "code",
      "source": [
        "df = pd.read_csv('train.csv')\n",
        "\n",
        "from matplotlib.pyplot import figure\n",
        "\n",
        "figure(figsize=(3.5, 3), dpi=200)\n",
        "sns.scatterplot(data=df.sample(n=1000), x='mean_step_speed',  y='mean_step_speed', hue='label')"
      ],
      "metadata": {
        "id": "zOQeHr9eIhOk"
      },
      "execution_count": null,
      "outputs": []
    },
    {
      "cell_type": "code",
      "source": [
        "figure(figsize=(3.5, 3), dpi=200)\n",
        "sns.scatterplot(data=dfplots.sample(n=1000), x='linearity',  y='linearity', hue='label')"
      ],
      "metadata": {
        "id": "485Ch66vh6RU"
      },
      "execution_count": null,
      "outputs": []
    },
    {
      "cell_type": "markdown",
      "source": [
        "XGB"
      ],
      "metadata": {
        "id": "ZW4do2rb-8mU"
      }
    },
    {
      "cell_type": "code",
      "source": [
        "from sklearn.model_selection import cross_val_score, KFold"
      ],
      "metadata": {
        "id": "SkPxS-L6AKyx"
      },
      "execution_count": null,
      "outputs": []
    },
    {
      "cell_type": "code",
      "source": [
        "f2 = []\n",
        "\n",
        "\n",
        "xgbc = XGBClassifier(\n",
        "\n",
        "    subsample=1,\n",
        "    colsample_bytree=0.5,\n",
        "    min_child_weight=5,\n",
        "    max_depth=6,\n",
        "    learning_rate=0.03,\n",
        "    n_estimators=100)\n",
        "\n",
        "train = df_lab.append(df_sim.sample(n=15000)).dropna()\n",
        "test = df_lab.tail(100).dropna()\n",
        "\n",
        "X_train = train.drop(['label', 'uid'], axis=1)\n",
        "X_test = test.drop(['label', 'uid'], axis=1)\n",
        "\n",
        "y_train = train['label']\n",
        "y_test = test['label']\n",
        "xgbc.fit(X_train, y_train)\n",
        "\n",
        "scores = cross_val_score(xgbc, X_train, y_train, cv=5)\n",
        "print(\"Mean cross-validation score: %.2f\" % scores.mean())\n",
        "\n",
        "kfold = KFold(n_splits=10, shuffle=True)\n",
        "kf_cv_scores = cross_val_score(xgbc, X_train, y_train, cv=kfold )\n",
        "print(\"K-fold CV average score: %.2f\" % kf_cv_scores.mean())\n",
        "\n",
        "y_pred = xgbc.predict(X_test)\n",
        "f2.append(metrics.fbeta_score(y_test, y_pred, beta=2, average='binary'))\n",
        "print(np.mean(f2))"
      ],
      "metadata": {
        "id": "_atHn9Us-0wE"
      },
      "execution_count": null,
      "outputs": []
    },
    {
      "cell_type": "code",
      "source": [],
      "metadata": {
        "id": "TU1l_ATblk_E"
      },
      "execution_count": null,
      "outputs": []
    },
    {
      "cell_type": "markdown",
      "source": [
        "LGBM\n"
      ],
      "metadata": {
        "id": "l7EsKEMk0fCp"
      }
    },
    {
      "cell_type": "code",
      "source": [
        "!pip install lightgbm"
      ],
      "metadata": {
        "id": "oj29pE0a1a6l"
      },
      "execution_count": null,
      "outputs": []
    },
    {
      "cell_type": "code",
      "source": [
        "import lightgbm as lgb"
      ],
      "metadata": {
        "id": "_n31wFsa1kS2"
      },
      "execution_count": null,
      "outputs": []
    },
    {
      "cell_type": "code",
      "source": [
        "f2=[]\n",
        "lgbc = lgb.LGBMClassifier(learning_rate=0.1,max_depth=20,\n",
        "      subsample=0.5,\n",
        "      colsample_bytree=0.5,\n",
        "      min_child_weight=1,\n",
        "      n_estimators=300)\n",
        "\n",
        "train = df_lab.tail(100).append(df_sim.sample(n=100)).dropna()\n",
        "test = df_lab.head(250).dropna()\n",
        "\n",
        "X_train = train.drop(['label', 'uid'], axis=1)\n",
        "X_test = test.drop(['label', 'uid'], axis=1)\n",
        "\n",
        "y_train = train['label']\n",
        "y_test = test['label']\n",
        "\n",
        "scores = cross_val_score(xgbc, X_train, y_train, cv=5)\n",
        "print(\"Mean cross-validation score: %.2f\" % scores.mean())\n",
        "\n",
        "kfold = KFold(n_splits=10, shuffle=True)\n",
        "kf_cv_scores = cross_val_score(xgbc, X_train, y_train, cv=kfold )\n",
        "print(\"K-fold CV average score: %.2f\" % kf_cv_scores.mean())\n",
        "\n",
        "lgbc.fit(X_train, y_train)\n",
        "y_pred = lgbc.predict(X_test)\n",
        "f2.append(metrics.fbeta_score(y_test, y_pred, beta=2, average='binary'))\n",
        "print(lgbc.score(X_test, y_test))\n"
      ],
      "metadata": {
        "colab": {
          "base_uri": "https://localhost:8080/"
        },
        "id": "Abpkiu_00jXj",
        "outputId": "0a71d82e-c390-41c5-92f4-3c1a4364112d"
      },
      "execution_count": null,
      "outputs": [
        {
          "output_type": "stream",
          "name": "stdout",
          "text": [
            "0.8518034481701898\n"
          ]
        }
      ]
    },
    {
      "cell_type": "code",
      "source": [
        "lgb.plot_importance(lgbc)"
      ],
      "metadata": {
        "colab": {
          "base_uri": "https://localhost:8080/",
          "height": 313
        },
        "id": "IyUZbsYN8p5f",
        "outputId": "84e5b723-fc64-4c37-b1a1-3d50d85d6b78"
      },
      "execution_count": null,
      "outputs": [
        {
          "output_type": "execute_result",
          "data": {
            "text/plain": [
              "<matplotlib.axes._subplots.AxesSubplot at 0x7f2cbfa6e5e0>"
            ]
          },
          "metadata": {},
          "execution_count": 83
        },
        {
          "output_type": "display_data",
          "data": {
            "text/plain": [
              "<Figure size 432x288 with 1 Axes>"
            ],
            "image/png": "[encoded data removed]"
          },
          "metadata": {
            "needs_background": "light"
          }
        }
      ]
    },
    {
      "cell_type": "code",
      "source": [
        "from sklearn.model_selection import GridSearchCV\n",
        "PARAMETERS = {\"subsample\":[0.5, 0.75, 1],\n",
        "\"colsample_bytree\":[0.5, 0.75, 1],\n",
        "\"max_depth\":[2, 6, 12],\n",
        "\"min_child_weight\":[1,5,15],\n",
        "\"learning_rate\":[0.3, 0.1, 0.03],\n",
        "\"n_estimators\":[100]}\n",
        "\n",
        "eval_set = [(X_train, y_train),(X_test,y_test)]\n",
        "#Initialise XGBoost Model\n",
        "#model = XGBClassifier(n_estimators=100, n_jobs=-1)\n",
        "model = lgb.LGBMClassifier(learning_rate=0.03,max_depth=-5)\n",
        "model_gs = GridSearchCV(model,param_grid=PARAMETERS,cv=3,scoring=\"accuracy\")\n",
        "#Fit the model as done previously\n",
        "model_gs.fit(X_train,y_train,early_stopping_rounds=10, eval_metric=\"error\",eval_set=eval_set,verbose=0)\n",
        "print(model_gs.best_params_)"
      ],
      "metadata": {
        "colab": {
          "base_uri": "https://localhost:8080/"
        },
        "id": "nNm8SpaJEaha",
        "outputId": "7af7cc2a-ce88-46f8-df2b-24e0b05a3daa"
      },
      "execution_count": null,
      "outputs": [
        {
          "output_type": "stream",
          "name": "stdout",
          "text": [
            "{'colsample_bytree': 0.5, 'learning_rate': 0.3, 'max_depth': 6, 'min_child_weight': 1, 'n_estimators': 100, 'subsample': 0.5}\n"
          ]
        }
      ]
    },
    {
      "cell_type": "markdown",
      "source": [
        "Random Forest"
      ],
      "metadata": {
        "id": "M_PZqoJq-1V4"
      }
    },
    {
      "cell_type": "code",
      "source": [
        "\n",
        "f2 = []\n",
        "\n",
        "train = df_lab.append(df_sim.sample(n=15000)).dropna()\n",
        "test = df_lab.tail(200).dropna()\n",
        "\n",
        "\n",
        "clf = RandomForestClassifier(n_estimators = 100)\n",
        "\n",
        "X_train = train.drop(['label', 'uid'], axis=1)\n",
        "X_test = test.drop(['label', 'uid'], axis=1)\n",
        "\n",
        "X_train = train.drop(['label', 'uid', 'rwalk_x', 'rwalk_y'], axis=1)\n",
        "X_test = test.drop(['label', 'uid', 'rwalk_x', 'rwalk_y'], axis=1)\n",
        "\n",
        "y_train = train['label']\n",
        "y_test = test['label']\n",
        "\n",
        "clf.fit(X_train, y_train)\n",
        "y_pred = clf.predict(X_test)\n",
        "\n",
        "cv = cross_validate(clf, df_lab.drop(['label', 'uid'], axis=1), df_lab['label'], cv=5)\n",
        "\n",
        "print(\"f2 score: \", metrics.fbeta_score(y_test, y_pred, beta=2, average='binary'))\n",
        "f2.append(metrics.fbeta_score(y_test, y_pred, beta=2, average='binary'))\n",
        "\n"
      ],
      "metadata": {
        "id": "Z0mYKk4QIcYu"
      },
      "execution_count": null,
      "outputs": []
    },
    {
      "cell_type": "code",
      "source": [],
      "metadata": {
        "id": "PoG-buht-s9f"
      },
      "execution_count": null,
      "outputs": []
    },
    {
      "cell_type": "markdown",
      "source": [
        "Running the code with test.json will generate test.csv"
      ],
      "metadata": {
        "id": "1tZpzYSh-uzH"
      }
    },
    {
      "cell_type": "code",
      "source": [
        "df_test = pd.read_csv('test.csv')\n",
        "df_test['rsd'] = (df_test['stddev_step_speed']) / (df_test['mean_step_speed']+0.001)\n"
      ],
      "metadata": {
        "id": "N2MydoHyWZWY"
      },
      "execution_count": null,
      "outputs": []
    },
    {
      "cell_type": "code",
      "source": [
        "y_pred_test_lgb = lgbc.predict(df_test.drop(['label', 'uid'], axis=1))\n",
        "df_test['label'] = y_pred_test_lgb\n",
        "test = df_test[['uid', 'label']]\n",
        "test.to_csv('testlgb.csv', index=False)"
      ],
      "metadata": {
        "id": "5HAf7EcaVJ1z"
      },
      "execution_count": null,
      "outputs": []
    },
    {
      "cell_type": "code",
      "source": [],
      "metadata": {
        "id": "KEuBjmFuVpJY"
      },
      "execution_count": null,
      "outputs": []
    }
  ]
}